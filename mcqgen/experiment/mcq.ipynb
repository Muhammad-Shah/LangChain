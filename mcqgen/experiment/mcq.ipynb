{
 "cells": [
  {
   "cell_type": "code",
   "execution_count": 23,
   "metadata": {},
   "outputs": [],
   "source": [
    "import os\n",
    "import json\n",
    "import pandas as pd\n",
    "import traceback\n",
    "from dotenv import load_dotenv, find_dotenv\n",
    "from tqdm import tqdm_notebook\n",
    "from langchain_community.llms import HuggingFaceEndpoint, HuggingFaceTextGenInference\n",
    "from langchain.prompts import PromptTemplate\n",
    "from langchain.chains import SequentialChain\n",
    "from langchain.chains import LLMChain\n",
    "from langchain.callbacks import get_openai_callback\n",
    "\n",
    "load_dotenv(find_dotenv())\n",
    "FACE_API = os.getenv('HUGGING_FACE_API')"
   ]
  },
  {
   "cell_type": "code",
   "execution_count": 72,
   "metadata": {},
   "outputs": [],
   "source": [
    "NUMBER = 5\n",
    "SUBJECT = 'machine learning'\n",
    "TONE = 'simple'\n",
    "RESPNSE_JSON = {\n",
    "    '1': {\n",
    "        'mcq': 'multiple choice question',\n",
    "        'options': {\n",
    "            'a': 'choice here',\n",
    "            'b': 'choice here',\n",
    "            'c': 'choice here',\n",
    "            'd': 'choice here'\n",
    "        },\n",
    "        'correct answer': 'option',\n",
    "    },\n",
    "    '2': {\n",
    "        'mcq': 'multiple choice question',\n",
    "        'options': {\n",
    "            'a': 'choice here',\n",
    "            'b': 'choice here',\n",
    "            'c': 'choice here',\n",
    "            'd': 'choice here'\n",
    "        },\n",
    "        'correct answer': 'option',\n",
    "    },\n",
    "    '3': {\n",
    "        'mcq': 'multiple choice question',\n",
    "        'options': {\n",
    "            'a': 'choice here',\n",
    "            'b': 'choice here',\n",
    "            'c': 'choice here',\n",
    "            'd': 'choice here'\n",
    "        },\n",
    "        'correct answer': 'correct option',\n",
    "    },\n",
    "}"
   ]
  },
  {
   "cell_type": "code",
   "execution_count": 73,
   "metadata": {},
   "outputs": [
    {
     "name": "stdout",
     "output_type": "stream",
     "text": [
      "Token has not been saved to git credential helper. Pass `add_to_git_credential=True` if you want to set the git credential as well.\n",
      "Token is valid (permission: read).\n",
      "Your token has been saved to C:\\Users\\PC\\.cache\\huggingface\\token\n",
      "Login successful\n"
     ]
    }
   ],
   "source": [
    "llm = HuggingFaceEndpoint(\n",
    "    repo_id='mistralai/Mistral-7B-Instruct-v0.2',\n",
    "    task='question-answering',\n",
    "    max_new_tokens=512,\n",
    "    top_k=50,\n",
    "    temperature=0.1,\n",
    "    repetition_penalty=1.03,\n",
    "    huggingfacehub_api_token=FACE_API\n",
    ")"
   ]
  },
  {
   "cell_type": "code",
   "execution_count": 145,
   "metadata": {},
   "outputs": [],
   "source": [
    "TEMPLATE = \"\"\"\n",
    "Text: {text}\n",
    "    You are expert MCQ maker. Given the above text, it is your job to create a quiz of {number} \\\n",
    "    multiple choice questions for {subject} students in {tone} tone.\n",
    "    Make sure the questions are not repeated and check all the questions to be conforming \\\n",
    "    the text as well.\n",
    "    Make sure to formate your respose like dictionary don't include other text because I cannot convet it into json and use it as a guide. \\\n",
    "    The response quiz you give me must be converted into JSON. Ensure to make {number} MCQs.\n",
    "    {response_json}\n",
    "    \"\"\"\n",
    "\n",
    "quiz_generation_prompt = PromptTemplate(\n",
    "    template=TEMPLATE,\n",
    "    input_variables=['text', 'number', 'subject', 'tone', 'response_json'])"
   ]
  },
  {
   "cell_type": "code",
   "execution_count": 146,
   "metadata": {},
   "outputs": [],
   "source": [
    "quiz_chain = LLMChain(llm=llm, prompt=quiz_generation_prompt,\n",
    "                      output_key='quiz', verbose=True)"
   ]
  },
  {
   "cell_type": "code",
   "execution_count": 147,
   "metadata": {},
   "outputs": [],
   "source": [
    "TEMPLATE2 = \"\"\"\n",
    "Your are an expert english grammarian and writer. Given a Multiple Choice \\\n",
    "Quiz for {subject} students. You need to evaluate the complexity of the \\\n",
    "questions and give a complexity analysis of the quiz. Only use at max 50 words for complexity \\\n",
    "if the quiz is not at per with the cognitive and analytical abilities of the students, \\\n",
    "update the quiz quetstions which needs to be changed update the tone such that it \\\n",
    "perfectly fits the students ability.\n",
    "Quiz_MCQs:\n",
    "{quiz}\n",
    "\n",
    "Check from an expert English Writer of the above quiz.\n",
    "\"\"\"\n",
    "\n",
    "quiz_evaluation_prompt = PromptTemplate(\n",
    "    input_variables=['subject', 'quiz'],\n",
    "    template=TEMPLATE2\n",
    ")\n",
    "\n",
    "review_chain = LLMChain(\n",
    "    llm=llm,\n",
    "    prompt=quiz_evaluation_prompt,\n",
    "    output_key='review',\n",
    "    verbose=True\n",
    ")"
   ]
  },
  {
   "cell_type": "code",
   "execution_count": 148,
   "metadata": {},
   "outputs": [],
   "source": [
    "generate_evaluate_chain = SequentialChain(\n",
    "    chains=[quiz_chain, review_chain],\n",
    "    input_variables=['text', 'number', 'subject', 'tone', 'response_json'],\n",
    "    output_variables=['quiz', 'review'],\n",
    "    verbose=True\n",
    ")"
   ]
  },
  {
   "cell_type": "code",
   "execution_count": 149,
   "metadata": {},
   "outputs": [
    {
     "name": "stdout",
     "output_type": "stream",
     "text": [
      "Since deep learning and machine learning tend to be used interchangeably, it’s worth noting the nuances between the two. Machine learning, deep learning, and neural networks are all sub-fields of artificial intelligence. However, neural networks is actually a sub-field of machine learning, and deep learning is a sub-field of neural networks.\n",
      "\n",
      "The way in which deep learning and machine learning differ is in how each algorithm learns. \"Deep\" machine learning can use labeled datasets, also known as supervised learning, to inform its algorithm, but it doesn’t necessarily require a labeled dataset. The deep learning process can ingest unstructured data in its raw form (e.g., text or images), and it can automatically determine the set of features which distinguish different categories of data from one another. This eliminates some of the human intervention required and enables the use of large amounts of data. You can think of deep learning as \"scalable machine learning\" as Lex Fridman notes in this MIT lecture (link resides outside ibm.com).\n",
      "\n",
      "Classical, or \"non-deep,\" machine learning is more dependent on human intervention to learn. Human experts determine the set of features to understand the differences between data inputs, usually requiring more structured data to learn.\n",
      "\n",
      "Neural networks, or artificial neural networks (ANNs), are comprised of node layers, containing an input layer, one or more hidden layers, and an output layer. Each node, or artificial neuron, connects to another and has an associated weight and threshold. If the output of any individual node is above the specified threshold value, that node is activated, sending data to the next layer of the network. Otherwise, no data is passed along to the next layer of the network by that node. The “deep” in deep learning is just referring to the number of layers in a neural network. A neural network that consists of more than three layers—which would be inclusive of the input and the output—can be considered a deep learning algorithm or a deep neural network. A neural network that only has three layers is just a basic neural network.\n",
      "\n",
      "Deep learning and neural networks are credited with accelerating progress in areas such as computer vision, natural language processing, and speech recognition.\n"
     ]
    },
    {
     "data": {
      "text/plain": [
       "'\"Since deep learning and machine learning tend to be used interchangeably, it\\\\u2019s worth noting the nuances between the two. Machine learning, deep learning, and neural networks are all sub-fields of artificial intelligence. However, neural networks is actually a sub-field of machine learning, and deep learning is a sub-field of neural networks.\\\\n\\\\nThe way in which deep learning and machine learning differ is in how each algorithm learns. \\\\\"Deep\\\\\" machine learning can use labeled datasets, also known as supervised learning, to inform its algorithm, but it doesn\\\\u2019t necessarily require a labeled dataset. The deep learning process can ingest unstructured data in its raw form (e.g., text or images), and it can automatically determine the set of features which distinguish different categories of data from one another. This eliminates some of the human intervention required and enables the use of large amounts of data. You can think of deep learning as \\\\\"scalable machine learning\\\\\" as Lex Fridman notes in this MIT lecture (link resides outside ibm.com).\\\\n\\\\nClassical, or \\\\\"non-deep,\\\\\" machine learning is more dependent on human intervention to learn. Human experts determine the set of features to understand the differences between data inputs, usually requiring more structured data to learn.\\\\n\\\\nNeural networks, or artificial neural networks (ANNs), are comprised of node layers, containing an input layer, one or more hidden layers, and an output layer. Each node, or artificial neuron, connects to another and has an associated weight and threshold. If the output of any individual node is above the specified threshold value, that node is activated, sending data to the next layer of the network. Otherwise, no data is passed along to the next layer of the network by that node. The \\\\u201cdeep\\\\u201d in deep learning is just referring to the number of layers in a neural network. A neural network that consists of more than three layers\\\\u2014which would be inclusive of the input and the output\\\\u2014can be considered a deep learning algorithm or a deep neural network. A neural network that only has three layers is just a basic neural network.\\\\n\\\\nDeep learning and neural networks are credited with accelerating progress in areas such as computer vision, natural language processing, and speech recognition.\"'"
      ]
     },
     "execution_count": 149,
     "metadata": {},
     "output_type": "execute_result"
    }
   ],
   "source": [
    "with open(\"../data.txt\", 'r') as file:\n",
    "    TEXT = file.read()\n",
    "print(TEXT)\n",
    "\n",
    "json.dumps(TEXT)"
   ]
  },
  {
   "cell_type": "code",
   "execution_count": 150,
   "metadata": {},
   "outputs": [
    {
     "name": "stdout",
     "output_type": "stream",
     "text": [
      "\n",
      "\n",
      "\u001b[1m> Entering new SequentialChain chain...\u001b[0m\n",
      "\n",
      "\n",
      "\u001b[1m> Entering new LLMChain chain...\u001b[0m\n",
      "Prompt after formatting:\n",
      "\u001b[32;1m\u001b[1;3m\n",
      "Text: Since deep learning and machine learning tend to be used interchangeably, it’s worth noting the nuances between the two. Machine learning, deep learning, and neural networks are all sub-fields of artificial intelligence. However, neural networks is actually a sub-field of machine learning, and deep learning is a sub-field of neural networks.\n",
      "\n",
      "The way in which deep learning and machine learning differ is in how each algorithm learns. \"Deep\" machine learning can use labeled datasets, also known as supervised learning, to inform its algorithm, but it doesn’t necessarily require a labeled dataset. The deep learning process can ingest unstructured data in its raw form (e.g., text or images), and it can automatically determine the set of features which distinguish different categories of data from one another. This eliminates some of the human intervention required and enables the use of large amounts of data. You can think of deep learning as \"scalable machine learning\" as Lex Fridman notes in this MIT lecture (link resides outside ibm.com).\n",
      "\n",
      "Classical, or \"non-deep,\" machine learning is more dependent on human intervention to learn. Human experts determine the set of features to understand the differences between data inputs, usually requiring more structured data to learn.\n",
      "\n",
      "Neural networks, or artificial neural networks (ANNs), are comprised of node layers, containing an input layer, one or more hidden layers, and an output layer. Each node, or artificial neuron, connects to another and has an associated weight and threshold. If the output of any individual node is above the specified threshold value, that node is activated, sending data to the next layer of the network. Otherwise, no data is passed along to the next layer of the network by that node. The “deep” in deep learning is just referring to the number of layers in a neural network. A neural network that consists of more than three layers—which would be inclusive of the input and the output—can be considered a deep learning algorithm or a deep neural network. A neural network that only has three layers is just a basic neural network.\n",
      "\n",
      "Deep learning and neural networks are credited with accelerating progress in areas such as computer vision, natural language processing, and speech recognition.\n",
      "    You are expert MCQ maker. Given the above text, it is your job to create a quiz of 5     multiple choice questions for machine learning students in simple tone.\n",
      "    Make sure the questions are not repeated and check all the questions to be conforming     the text as well.\n",
      "    Make sure to formate your respose like dictionary don't include other text because I cannot convet it into json and use it as a guide.     The response quiz you give me must be converted into JSON. Ensure to make 5 MCQs.\n",
      "    {\"1\": {\"mcq\": \"multiple choice question\", \"options\": {\"a\": \"choice here\", \"b\": \"choice here\", \"c\": \"choice here\", \"d\": \"choice here\"}, \"correct answer\": \"option\"}, \"2\": {\"mcq\": \"multiple choice question\", \"options\": {\"a\": \"choice here\", \"b\": \"choice here\", \"c\": \"choice here\", \"d\": \"choice here\"}, \"correct answer\": \"option\"}, \"3\": {\"mcq\": \"multiple choice question\", \"options\": {\"a\": \"choice here\", \"b\": \"choice here\", \"c\": \"choice here\", \"d\": \"choice here\"}, \"correct answer\": \"correct option\"}}\n",
      "    \u001b[0m\n",
      "\n",
      "\u001b[1m> Finished chain.\u001b[0m\n",
      "\n",
      "\n",
      "\u001b[1m> Entering new LLMChain chain...\u001b[0m\n",
      "Prompt after formatting:\n",
      "\u001b[32;1m\u001b[1;3m\n",
      "Your are an expert english grammarian and writer. Given a Multiple Choice Quiz for machine learning students. You need to evaluate the complexity of the questions and give a complexity analysis of the quiz. Only use at max 50 words for complexity if the quiz is not at per with the cognitive and analytical abilities of the students, update the quiz quetstions which needs to be changed update the tone such that it perfectly fits the students ability.\n",
      "Quiz_MCQs:\n",
      "\n",
      "    Here are five MCQs for machine learning students based on the text:\n",
      "\n",
      "    {\"1\": {\"mcq\": \"Which sub-field of artificial intelligence is deep learning a part of?\", \"options\": {\"a\": \"Machine learning\", \"b\": \"Neural networks\", \"c\": \"Deep learning\", \"d\": \"Computer vision\"}, \"correct answer\": \"a\"},\n",
      "     \"2\": {\"mcq\": \"Which type of machine learning is deep learning a sub-field of?\", \"options\": {\"a\": \"Supervised learning\", \"b\": \"Unsupervised learning\", \"c\": \"Reinforcement learning\", \"d\": \"Deep learning\"}, \"correct answer\": \"a\"},\n",
      "     \"3\": {\"mcq\": \"What is the difference between machine learning and deep learning?\", \"options\": {\"a\": \"Machine learning uses labeled datasets, deep learning does not.\", \"b\": \"Deep learning requires human intervention, machine learning does not.\", \"c\": \"Deep learning can only be used for structured data, machine learning can handle unstructured data.\", \"d\": \"Deep learning is a sub-field of machine learning, machine learning is a sub-field of deep learning.\"}, \"correct answer\": \"a\"},\n",
      "     \"4\": {\"mcq\": \"Which type of neural network is a deep learning algorithm?\", \"options\": {\"a\": \"A neural network with three layers\", \"b\": \"A neural network with two layers\", \"c\": \"A neural network with more than three layers\", \"d\": \"A neural network with only an input layer\"}, \"correct answer\": \"c\"},\n",
      "     \"5\": {\"mcq\": \"Which sub-field of artificial intelligence is neural networks a part of?\", \"options\": {\"a\": \"Machine learning\", \"b\": \"Deep learning\", \"c\": \"Neural networks\", \"d\": \"Computer vision\"}, \"correct answer\": \"b\"}}\n",
      "\n",
      "Check from an expert English Writer of the above quiz.\n",
      "\u001b[0m\n",
      "\n",
      "\u001b[1m> Finished chain.\u001b[0m\n",
      "\n",
      "\u001b[1m> Finished chain.\u001b[0m\n"
     ]
    }
   ],
   "source": [
    "with get_openai_callback() as cb:\n",
    "    response = generate_evaluate_chain(\n",
    "        {'text': TEXT,\n",
    "         'number': NUMBER,\n",
    "         'subject': SUBJECT,\n",
    "         'tone': TONE,\n",
    "         'response_json': json.dumps(RESPNSE_JSON)}\n",
    "    )"
   ]
  },
  {
   "cell_type": "code",
   "execution_count": 151,
   "metadata": {},
   "outputs": [
    {
     "name": "stdout",
     "output_type": "stream",
     "text": [
      "Total Tokens: 0\n",
      "Prompt Tokens: 0\n",
      "Completion Tokens: 0\n",
      "Total Cost: 0.0\n"
     ]
    }
   ],
   "source": [
    "print(f\"Total Tokens: {cb.total_tokens}\")\n",
    "print(f\"Prompt Tokens: {cb.prompt_tokens}\")\n",
    "print(f\"Completion Tokens: {cb.completion_tokens}\")\n",
    "print(f\"Total Cost: {cb.total_cost}\")"
   ]
  },
  {
   "cell_type": "code",
   "execution_count": 196,
   "metadata": {},
   "outputs": [
    {
     "data": {
      "text/plain": [
       "{'1': {'mcq': 'Which sub-field of artificial intelligence is deep learning a part of?',\n",
       "  'options': {'a': 'Machine learning',\n",
       "   'b': 'Neural networks',\n",
       "   'c': 'Deep learning',\n",
       "   'd': 'Computer vision'},\n",
       "  'correct answer': 'a'},\n",
       " '2': {'mcq': 'Which type of machine learning is deep learning a sub-field of?',\n",
       "  'options': {'a': 'Supervised learning',\n",
       "   'b': 'Unsupervised learning',\n",
       "   'c': 'Reinforcement learning',\n",
       "   'd': 'Deep learning'},\n",
       "  'correct answer': 'a'},\n",
       " '3': {'mcq': 'What is the difference between machine learning and deep learning?',\n",
       "  'options': {'a': 'Machine learning uses labeled datasets, deep learning does not.',\n",
       "   'b': 'Deep learning requires human intervention, machine learning does not.',\n",
       "   'c': 'Deep learning can only be used for structured data, machine learning can handle unstructured data.',\n",
       "   'd': 'Deep learning is a sub-field of machine learning, machine learning is a sub-field of deep learning.'},\n",
       "  'correct answer': 'a'},\n",
       " '4': {'mcq': 'Which type of neural network is a deep learning algorithm?',\n",
       "  'options': {'a': 'A neural network with three layers',\n",
       "   'b': 'A neural network with two layers',\n",
       "   'c': 'A neural network with more than three layers',\n",
       "   'd': 'A neural network with only an input layer'},\n",
       "  'correct answer': 'c'},\n",
       " '5': {'mcq': 'Which sub-field of artificial intelligence is neural networks a part of?',\n",
       "  'options': {'a': 'Machine learning',\n",
       "   'b': 'Deep learning',\n",
       "   'c': 'Neural networks',\n",
       "   'd': 'Computer vision'},\n",
       "  'correct answer': 'b'}}"
      ]
     },
     "execution_count": 196,
     "metadata": {},
     "output_type": "execute_result"
    }
   ],
   "source": [
    "quiz = response.get('quiz')[78:]\n",
    "quiz = json.loads(quiz)"
   ]
  },
  {
   "cell_type": "code",
   "execution_count": null,
   "metadata": {},
   "outputs": [],
   "source": [
    "quiz_table_data = []\n",
    "for key, value in quiz.items():\n",
    "    mcq = value[\"mcq\"]\n",
    "    options = \" | \".join(\n",
    "        [f\"{option}: {option_value}\" for option, option_value in value[\"options\"].items()]\n",
    "    )\n",
    "    correct = value[\"correct answer\"]\n",
    "    quiz_table_data.append({\"MCQ\": mcq, \"Choices: \": options, \"Correct\": correct})"
   ]
  },
  {
   "cell_type": "code",
   "execution_count": null,
   "metadata": {},
   "outputs": [],
   "source": [
    "quiz_df = pd.DataFrame(quiz_table_data)"
   ]
  },
  {
   "cell_type": "code",
   "execution_count": null,
   "metadata": {},
   "outputs": [],
   "source": [
    "quiz_df.to_csv('machine-learning.csv', index=Fal                                                                                                                                                                                                           se)"
   ]
  },
  {
   "cell_type": "code",
   "execution_count": null,
   "metadata": {},
   "outputs": [],
   "source": []
  },
  {
   "cell_type": "code",
   "execution_count": null,
   "metadata": {},
   "outputs": [],
   "source": []
  }
 ],
 "metadata": {
  "kernelspec": {
   "display_name": "Python 3",
   "language": "python",
   "name": "python3"
  },
  "language_info": {
   "codemirror_mode": {
    "name": "ipython",
    "version": 3
   },
   "file_extension": ".py",
   "mimetype": "text/x-python",
   "name": "python",
   "nbconvert_exporter": "python",
   "pygments_lexer": "ipython3",
   "version": "3.12.2"
  }
 },
 "nbformat": 4,
 "nbformat_minor": 2
}
